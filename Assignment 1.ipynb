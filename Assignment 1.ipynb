{
 "cells": [
  {
   "cell_type": "markdown",
   "metadata": {},
   "source": [
    "# Assignment 1"
   ]
  },
  {
   "cell_type": "markdown",
   "metadata": {},
   "source": [
    "The car's market price data set consists of three types of entities: \n",
    "* the specification of an auto in terms of various characteristics;\n",
    "* its assigned insurance risk rating;\n",
    "* its normalized losses in use as compared to other cars. \n",
    "\n",
    "The second rating corresponds to the degree to which the auto is more risky than its price indicates. Cars are initially assigned a risk factor symbol associated with its price. Then, if it is more risky (or less), this symbol is adjusted by moving it up (or down) the scale. Actuarians call this process \"symboling\". A value of +3 indicates that the auto is risky, -3 that it is probably pretty safe. "
   ]
  },
  {
   "cell_type": "markdown",
   "metadata": {},
   "source": [
    "### Attribute Information"
   ]
  },
  {
   "cell_type": "markdown",
   "metadata": {},
   "source": [
    "1. symboling: -3, -2, -1, 0, 1, 2, 3. \n",
    "2. normalized-losses: continuous from 65 to 256. \n",
    "3. make: alfa-romero, audi, bmw, chevrolet, dodge, honda,isuzu, jaguar, mazda, mercedes-benz, mercury, mitsubishi, nissan, peugot, plymouth, porsche, renault, saab, subaru, toyota, volkswagen, volvo \n",
    "4. fuel-type: diesel, gas. \n",
    "5. aspiration: std, turbo. \n",
    "6. num-of-doors: four, two. \n",
    "7. body-style: hardtop, wagon, sedan, hatchback, convertible. \n",
    "8. drive-wheels: 4wd, fwd, rwd. \n",
    "9. engine-location: front, rear. \n",
    "10. wheel-base: continuous from 86.6 to 120.9. \n",
    "11. length: continuous from 141.1 to 208.1. \n",
    "12. width: continuous from 60.3 to 72.3. \n",
    "13. height: continuous from 47.8 to 59.8. \n",
    "14. curb-weight: continuous from 1488 to 4066. \n",
    "15. engine-type: dohc, dohcv, l, ohc, ohcf, ohcv, rotor. \n",
    "16. num-of-cylinders: eight, five, four, six, three, twelve, two. \n",
    "17. engine-size: continuous from 61 to 326. \n",
    "18. fuel-system: 1bbl, 2bbl, 4bbl, idi, mfi, mpfi, spdi, spfi. \n",
    "19. bore: continuous from 2.54 to 3.94. \n",
    "20. stroke: continuous from 2.07 to 4.17. \n",
    "21. compression-ratio: continuous from 7 to 23. \n",
    "22. horsepower: continuous from 48 to 288. \n",
    "23. peak-rpm: continuous from 4150 to 6600. \n",
    "24. city-mpg: continuous from 13 to 49. \n",
    "25. highway-mpg: continuous from 16 to 54. \n",
    "26. price: continuous from 5118 to 45400."
   ]
  },
  {
   "cell_type": "markdown",
   "metadata": {},
   "source": [
    "### Relevant Papers"
   ]
  },
  {
   "cell_type": "markdown",
   "metadata": {},
   "source": [
    "Kibler, D., Aha, D.W., & Albert,M. (1989). Instance-based prediction of real-valued attributes. Computational Intelligence, Vol 5, 51--57. "
   ]
  },
  {
   "cell_type": "markdown",
   "metadata": {},
   "source": [
    "## Task 1 - Data Exploration [10 Marks]"
   ]
  },
  {
   "cell_type": "markdown",
   "metadata": {},
   "source": [
    "###  1.1 Import Data"
   ]
  },
  {
   "cell_type": "markdown",
   "metadata": {},
   "source": [
    "**Q [1 Mark]:** Upload the dataset of `Cars.data`. Import the dataset into a data frame named **cars**. Please also name each attribute (see *Attribute Information* section above)."
   ]
  },
  {
   "cell_type": "code",
   "execution_count": null,
   "metadata": {},
   "outputs": [],
   "source": [
    "[code...]"
   ]
  },
  {
   "cell_type": "markdown",
   "metadata": {},
   "source": [
    "###  1.2 Data Cleaning"
   ]
  },
  {
   "cell_type": "markdown",
   "metadata": {},
   "source": [
    "**Q [1 Mark]:** Look at columns `symboling` and `normalized-losses`, code to report whether we have missing value(s) for each of these two columns. If any, report the number of missing values.\n",
    "\n",
    "Note: Here missing values only refer to the \"?\"."
   ]
  },
  {
   "cell_type": "code",
   "execution_count": null,
   "metadata": {},
   "outputs": [],
   "source": [
    "[code...]"
   ]
  },
  {
   "cell_type": "markdown",
   "metadata": {},
   "source": [
    "**Q [1 Mark]:** Report the number of columns which have missing values in the **cars** data."
   ]
  },
  {
   "cell_type": "code",
   "execution_count": null,
   "metadata": {},
   "outputs": [],
   "source": [
    "[code...]"
   ]
  },
  {
   "cell_type": "markdown",
   "metadata": {},
   "source": [
    "**Q [1 Mark]:** Report the total number of missing values in the **cars** data."
   ]
  },
  {
   "cell_type": "code",
   "execution_count": null,
   "metadata": {},
   "outputs": [],
   "source": [
    "[code...]"
   ]
  },
  {
   "cell_type": "markdown",
   "metadata": {},
   "source": [
    "**Q [2 Marks]:** If you do find that this data has missing values, replace the missing values using the following strategy:\n",
    "\n",
    "- For numerical column, replace the missing values with the mean value of that column.\n",
    "- For categorical column, replace the missing values with the most frequent value of that column.\n",
    "\n",
    "Hint: Refer to [`SimpleImputer`](https://scikit-learn.org/stable/modules/generated/sklearn.impute.SimpleImputer.html)"
   ]
  },
  {
   "cell_type": "code",
   "execution_count": null,
   "metadata": {},
   "outputs": [],
   "source": [
    "[code...]"
   ]
  },
  {
   "cell_type": "markdown",
   "metadata": {},
   "source": [
    "###  1.3 Data Exploration"
   ]
  },
  {
   "cell_type": "markdown",
   "metadata": {},
   "source": [
    "**Q [1 Mark]:** Draw a histogram on `Price` and discuss your findings."
   ]
  },
  {
   "cell_type": "code",
   "execution_count": null,
   "metadata": {},
   "outputs": [],
   "source": [
    "[code...]"
   ]
  },
  {
   "cell_type": "markdown",
   "metadata": {},
   "source": [
    "**Q [1 Mark]:** Choose a suitable method and report the relationship (e.g., linear) between `price` and `horsepower`."
   ]
  },
  {
   "cell_type": "code",
   "execution_count": null,
   "metadata": {},
   "outputs": [],
   "source": [
    "[code...]"
   ]
  },
  {
   "cell_type": "markdown",
   "metadata": {},
   "source": [
    "**Q [1 Mark]:** Choose a suitable method and report the relationship between `price` and `make`."
   ]
  },
  {
   "cell_type": "code",
   "execution_count": null,
   "metadata": {},
   "outputs": [],
   "source": [
    "[code...]"
   ]
  },
  {
   "cell_type": "markdown",
   "metadata": {},
   "source": [
    "**Q [1 Mark]:** Choose a suitable method and report the relationship between `price` and `make`. Note: here suppose you are only interested in these makes `honda`, `audi`, `mazda`, `bmw`, `audi`, `toyota`, your X-axis thus only includes these makes."
   ]
  },
  {
   "cell_type": "code",
   "execution_count": null,
   "metadata": {},
   "outputs": [],
   "source": [
    "[code...]"
   ]
  },
  {
   "cell_type": "markdown",
   "metadata": {},
   "source": [
    "## Task 2 - KNN Modeling [10 Marks]"
   ]
  },
  {
   "cell_type": "markdown",
   "metadata": {},
   "source": [
    "**Q [1 Mark]:** Based on the cleaned data, please only select columns with continuous values and import them into a new data frame named **numeric_cars**. Report the first five instances."
   ]
  },
  {
   "cell_type": "code",
   "execution_count": null,
   "metadata": {},
   "outputs": [],
   "source": [
    "[code...]"
   ]
  },
  {
   "cell_type": "markdown",
   "metadata": {},
   "source": [
    "**Q [1 Mark]:** The type of our target column `price` is numerical. Use [`Binarizer`](https://scikit-learn.org/stable/modules/generated/sklearn.preprocessing.Binarizer.html) to set feature values to 0 or 1 via a threshold (the mean value of that column). Report the first five instances."
   ]
  },
  {
   "cell_type": "code",
   "execution_count": null,
   "metadata": {},
   "outputs": [],
   "source": [
    "[code...]"
   ]
  },
  {
   "cell_type": "markdown",
   "metadata": {},
   "source": [
    "**Q [2 Marks]:** Train the KNN model with classification.  \n",
    "Note: \n",
    "1. 75% of the data is used as the training set and the rest 25% is as the test set. \n",
    "2. Report the AUC value. \n",
    "3. Apart from the specified parameters and `random_state=1` for all cases, please use the default setting for other parameters."
   ]
  },
  {
   "cell_type": "code",
   "execution_count": null,
   "metadata": {},
   "outputs": [],
   "source": [
    "[code...]"
   ]
  },
  {
   "cell_type": "markdown",
   "metadata": {},
   "source": [
    "**Q [2 Marks]:** Train the KNN classfication model via different k values.   \n",
    "Note:  \n",
    "1. 75% of the data is used as the training set and the rest 25% is as the test set. \n",
    "2. Draw a figure with the x-axis representing the different k values `range(1,30)` in KNN and y-axis representing AUC value. Report the AUC performance on the training and test data respectively. \n",
    "3. Apart from the specified parameters and `random_state=1` for all cases, please use the default setting for other parameters."
   ]
  },
  {
   "cell_type": "code",
   "execution_count": null,
   "metadata": {},
   "outputs": [],
   "source": [
    "[code...]"
   ]
  },
  {
   "cell_type": "markdown",
   "metadata": {},
   "source": [
    "**Q [2 Marks]:** Optimise the parameter k via cross-validated grid-search over a parameter grid.   \n",
    "Note: \n",
    "1. Use [`GridSearchCV`](https://scikit-learn.org/stable/modules/generated/sklearn.model_selection.GridSearchCV.html) to choose the best k value on the training set. The parameter grid is set to `np.arange(1, 30)`.\n",
    "2. The model evaluation criteria is AUC performance.\n",
    "3. Report the best k value and the corresponding AUC performance.\n",
    "4. Apart from the specified parameters and `random_state=1` for all cases, please use the default setting for other parameters."
   ]
  },
  {
   "cell_type": "code",
   "execution_count": null,
   "metadata": {},
   "outputs": [],
   "source": [
    "[code...]"
   ]
  },
  {
   "cell_type": "markdown",
   "metadata": {},
   "source": [
    "**Q [2 Marks]:** Train the KNN classification model via 5-fold CV.   \n",
    "Note:  \n",
    "1. Train a 5-fold CV KNN on the whole data. \n",
    "2. The model evaluation criteria is AUC performance.\n",
    "3. Draw a figure with the x-axis representing the different k values `range(1,30)` in KNN and y-axis representing cross-validated AUC value. \n",
    "4. Apart from the specified parameters and `random_state=1` for all cases, please use the default setting for other parameters."
   ]
  },
  {
   "cell_type": "code",
   "execution_count": null,
   "metadata": {},
   "outputs": [],
   "source": [
    "[code...]"
   ]
  }
 ],
 "metadata": {
  "kernelspec": {
   "display_name": "Python 3",
   "language": "python",
   "name": "python3"
  },
  "language_info": {
   "codemirror_mode": {
    "name": "ipython",
    "version": 3
   },
   "file_extension": ".py",
   "mimetype": "text/x-python",
   "name": "python",
   "nbconvert_exporter": "python",
   "pygments_lexer": "ipython3",
   "version": "3.6.8"
  }
 },
 "nbformat": 4,
 "nbformat_minor": 2
}
